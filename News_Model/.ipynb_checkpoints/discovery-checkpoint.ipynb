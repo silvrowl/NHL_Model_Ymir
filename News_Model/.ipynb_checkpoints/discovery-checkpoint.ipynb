{
 "cells": [
  {
   "cell_type": "code",
   "execution_count": 40,
   "metadata": {},
   "outputs": [],
   "source": [
    "import requests\n",
    "from bs4 import BeautifulSoup\n",
    "\n",
    "#TorontoSun\n",
    "\n",
    "url = 'https://www.pensionplanpuppets.com/2020/7/14/21324395/maple-leafs-focus-on-special-teams-on-training-camp-day-2-robertson-on-pp1'\n",
    "res = requests.get(url)\n",
    "html_page = res.content\n",
    "soup = BeautifulSoup(html_page, 'html.parser')\n",
    "text = soup.find_all(text=True)\n",
    "\n",
    "output = ''\n",
    "blacklist = [\n",
    "    '[document]',\n",
    "     'a',\n",
    "     'aside',\n",
    "     'article'\n",
    "     'b',\n",
    "     'body',\n",
    "     'div',\n",
    "     'fieldset',\n",
    "     'figure',\n",
    "     'footer',\n",
    "     'form',\n",
    "     'h1',\n",
    "     'h2',\n",
    "     'h6',\n",
    "     'head',\n",
    "     'header',\n",
    "     'html',\n",
    "     'input',\n",
    "     'li',\n",
    "     'link',\n",
    "     'meta',\n",
    "     'noscript',\n",
    "     'script',\n",
    "     'section',\n",
    "     'span',\n",
    "     'strong',\n",
    "     'style',\n",
    "     'time',\n",
    "     'title',\n",
    "     'ul']\n",
    "\n",
    "for t in text:\n",
    "    if t.parent.name not in blacklist:\n",
    "        output += '{} '.format(t)\n",
    "\n"
   ]
  },
  {
   "cell_type": "code",
   "execution_count": 41,
   "metadata": {},
   "outputs": [
    {
     "data": {
      "text/plain": [
       "'                                  ✕    Filed under: The epic battle of the Leafs vs the Blue Jackets will come down to who has the best penalty kill. Wait.. that can’t be right.                       Breakaway master at his craft. Photo by Barry Chin/The Boston Globe via Getty Images On day two of training camp, the Maple Leafs brought some zebras on the ice, and got to work on a special scrimmage. No, not actual zebras, but this is the Leafs, so you never know:  Leafs seem pumped to scrimmage with an officiating crew today  — Mark Masters (@markhmasters)   Today was all about special teams:   Special teams and skills work on the docket today for  . Top power play unit remains as it was (Barrie, Matthews, Marner, Tavares, Nylander)  — Kristen Shilton (@kristen_shilton)   The structure here had Nylander at the net, and Tavares as the bumper.  The second unit was less impressive.   Leafs 2nd PP unit  Rielly  Kapanen - Kerfoot - Spezza  Hyman — Mark Masters (@markhmasters)   But there might be a fix for that...  Nick Robertson is getting a look today on the Leafs No. 1 power-play unit, joining Matthews, Tavares, Nylander and Barrie. — Jonas Siegel (@jonassiegel)   or:   Matthews stays out with the second unit  Spezza finds him  Auston makes no mistake  — Mark Masters (@markhmasters)   Facing the Leafs power play units in this endless special teams scrimmage was some interesting PK players.  Some notable PK pairs at Leafs camp  Hyman-Kerfoot* Mikheyev-Kapanen  Clifford-   Engvall-Robertson  Muzzin-Holl Rielly-Ceci  Dermott-Marincin/Rosen  * Marner working with PP today but projected to be on top PK unit — Mark Masters (@markhmasters)   Marner got some rotation later on the PK, and he’s going to be needed there because the Leafs vs Columbus is going to be a war of aggressiveness, not on the power play itself, but on the PK.  Furthering my  , asked Torts about a healthy   re-enabling a  . Coach says it will be important and they want that aggressiveness as a weapon a against the offensive talent on Leafs team.  Work begins on special teams later this week. — Alison (@AlisonL)   If you think Toronto has one of the hottest PK setups where breakaways abound and goals result, the Columbus Blue Jackets are as good.   Last RT: if you’re curious about the   that lots of us talk about, check out the talk that   and I presented earlier this year at  : “The Anatomy of a Power Kill”  — Meghan Hall (@MeghanMHall)   If you want to brush up on the enemy, your homework is to watch the above presentation (should start at 1:23:15):  In that video, you can see some examples of the defensive technique that leads to offence. You can see the Leafs do it here: The Blue Jackets might be missing Josh Anderson, but the Leafs have added Ilya Mikheyev, who gives them another weapon to use in their similar structure along with Marner and Kapanen.  The question will become whose power play can most withstand this disruption to their neutral zone transition and setup as well as the chaos going on while they’re trying to get the puck to their best shooters.   Oh, and which goalie can handle all the pressure:   The Blue Knight defending his crease   — Toronto Maple Leafs (@MapleLeafs)    Always leave on a high note, right  ?     — Toronto Maple Leafs (@MapleLeafs)                              Loading comments...                Vox Media logo. Sports data © STATS 2018             '"
      ]
     },
     "execution_count": 41,
     "metadata": {},
     "output_type": "execute_result"
    }
   ],
   "source": [
    "output.replace('\\n','')"
   ]
  },
  {
   "cell_type": "code",
   "execution_count": null,
   "metadata": {},
   "outputs": [],
   "source": []
  },
  {
   "cell_type": "code",
   "execution_count": null,
   "metadata": {},
   "outputs": [],
   "source": []
  },
  {
   "cell_type": "code",
   "execution_count": null,
   "metadata": {},
   "outputs": [],
   "source": []
  }
 ],
 "metadata": {
  "kernelspec": {
   "display_name": "Python 3",
   "language": "python",
   "name": "python3"
  },
  "language_info": {
   "codemirror_mode": {
    "name": "ipython",
    "version": 3
   },
   "file_extension": ".py",
   "mimetype": "text/x-python",
   "name": "python",
   "nbconvert_exporter": "python",
   "pygments_lexer": "ipython3",
   "version": "3.7.4"
  }
 },
 "nbformat": 4,
 "nbformat_minor": 2
}
