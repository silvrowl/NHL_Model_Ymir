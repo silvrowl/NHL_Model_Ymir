{
 "cells": [
  {
   "cell_type": "code",
   "execution_count": null,
   "metadata": {},
   "outputs": [],
   "source": [
    "import requests\n",
    "from bs4 import BeautifulSoup\n",
    "import re\n",
    "import numpy as np\n",
    "import pandas as pd\n",
    "\n",
    "def base_parser(text, base_site):\n",
    "\n",
    "    site_list = []\n",
    "    \n",
    "    if base_site in site_list:\n",
    "        #Use specific parser\n",
    "        print('Using Specific Parser')\n",
    "    \n",
    "    else:\n",
    "    \n",
    "        output = ''\n",
    "        blacklist = [\n",
    "            '[document]',\n",
    "             'a',\n",
    "             'aside',\n",
    "             'article'\n",
    "             'b',\n",
    "             'body',\n",
    "             'div',\n",
    "             'fieldset',\n",
    "             'figure',\n",
    "             'footer',\n",
    "             'form',\n",
    "             'h1',\n",
    "             'h2',\n",
    "             'h6',\n",
    "             'head',\n",
    "             'header',\n",
    "             'html',\n",
    "             'input',\n",
    "             'li',\n",
    "             'link',\n",
    "             'meta',\n",
    "             'noscript',\n",
    "             'script',\n",
    "             'section',\n",
    "             'span',\n",
    "             'strong',\n",
    "             'style',\n",
    "             'time',\n",
    "             'title',\n",
    "             'ul']\n",
    "\n",
    "        for t in text:\n",
    "            if t.parent.name not in blacklist:\n",
    "                output += '{} '.format(t)\n",
    "\n",
    "        final = output.replace('\\n','')\n",
    "    \n",
    "    return final\n"
   ]
  }
 ],
 "metadata": {
  "kernelspec": {
   "display_name": "Python 3",
   "language": "python",
   "name": "python3"
  },
  "language_info": {
   "codemirror_mode": {
    "name": "ipython",
    "version": 3
   },
   "file_extension": ".py",
   "mimetype": "text/x-python",
   "name": "python",
   "nbconvert_exporter": "python",
   "pygments_lexer": "ipython3",
   "version": "3.7.4"
  }
 },
 "nbformat": 4,
 "nbformat_minor": 2
}
